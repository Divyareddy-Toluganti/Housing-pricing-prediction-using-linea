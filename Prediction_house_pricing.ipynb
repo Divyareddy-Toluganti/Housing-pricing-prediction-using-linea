{
 "cells": [
  {
   "cell_type": "code",
   "execution_count": 51,
   "id": "c8246632",
   "metadata": {},
   "outputs": [],
   "source": [
    "#importing libraries\n",
    "import pandas as pd\n",
    "import seaborn as sb\n",
    "import numpy as np"
   ]
  },
  {
   "cell_type": "code",
   "execution_count": 52,
   "id": "b55050f9",
   "metadata": {},
   "outputs": [],
   "source": [
    "#reading file\n",
    "data=pd.read_csv(r\"C:\\Users\\User\\Desktop\\Datascience\\houses.csv\")"
   ]
  },
  {
   "cell_type": "code",
   "execution_count": 53,
   "id": "8af5ef31",
   "metadata": {},
   "outputs": [
    {
     "data": {
      "text/html": [
       "<div>\n",
       "<style scoped>\n",
       "    .dataframe tbody tr th:only-of-type {\n",
       "        vertical-align: middle;\n",
       "    }\n",
       "\n",
       "    .dataframe tbody tr th {\n",
       "        vertical-align: top;\n",
       "    }\n",
       "\n",
       "    .dataframe thead th {\n",
       "        text-align: right;\n",
       "    }\n",
       "</style>\n",
       "<table border=\"1\" class=\"dataframe\">\n",
       "  <thead>\n",
       "    <tr style=\"text-align: right;\">\n",
       "      <th></th>\n",
       "      <th>bedrooms</th>\n",
       "      <th>bathrooms</th>\n",
       "      <th>sqft_living</th>\n",
       "      <th>sqft_lot</th>\n",
       "      <th>floors</th>\n",
       "      <th>waterfront</th>\n",
       "      <th>view</th>\n",
       "      <th>condition</th>\n",
       "      <th>grade</th>\n",
       "      <th>sqft_above</th>\n",
       "      <th>sqft_basement</th>\n",
       "      <th>yr_built</th>\n",
       "      <th>yr_renovated</th>\n",
       "      <th>zipcode</th>\n",
       "      <th>lat</th>\n",
       "      <th>long</th>\n",
       "      <th>sqft_living15</th>\n",
       "      <th>price</th>\n",
       "    </tr>\n",
       "  </thead>\n",
       "  <tbody>\n",
       "    <tr>\n",
       "      <th>0</th>\n",
       "      <td>3.0</td>\n",
       "      <td>1.00</td>\n",
       "      <td>1180.0</td>\n",
       "      <td>5650.0</td>\n",
       "      <td>1.0</td>\n",
       "      <td>0.0</td>\n",
       "      <td>0.0</td>\n",
       "      <td>3.0</td>\n",
       "      <td>7.0</td>\n",
       "      <td>1180.0</td>\n",
       "      <td>0.0</td>\n",
       "      <td>1955.0</td>\n",
       "      <td>0.0</td>\n",
       "      <td>98178.0</td>\n",
       "      <td>47.5112</td>\n",
       "      <td>-122.257</td>\n",
       "      <td>1340.0</td>\n",
       "      <td>22.19</td>\n",
       "    </tr>\n",
       "    <tr>\n",
       "      <th>1</th>\n",
       "      <td>3.0</td>\n",
       "      <td>2.25</td>\n",
       "      <td>2570.0</td>\n",
       "      <td>7242.0</td>\n",
       "      <td>2.0</td>\n",
       "      <td>0.0</td>\n",
       "      <td>0.0</td>\n",
       "      <td>3.0</td>\n",
       "      <td>7.0</td>\n",
       "      <td>2170.0</td>\n",
       "      <td>400.0</td>\n",
       "      <td>1951.0</td>\n",
       "      <td>1991.0</td>\n",
       "      <td>98125.0</td>\n",
       "      <td>47.7210</td>\n",
       "      <td>-122.319</td>\n",
       "      <td>1690.0</td>\n",
       "      <td>53.80</td>\n",
       "    </tr>\n",
       "    <tr>\n",
       "      <th>2</th>\n",
       "      <td>2.0</td>\n",
       "      <td>1.00</td>\n",
       "      <td>770.0</td>\n",
       "      <td>10000.0</td>\n",
       "      <td>1.0</td>\n",
       "      <td>0.0</td>\n",
       "      <td>0.0</td>\n",
       "      <td>3.0</td>\n",
       "      <td>6.0</td>\n",
       "      <td>770.0</td>\n",
       "      <td>0.0</td>\n",
       "      <td>1933.0</td>\n",
       "      <td>0.0</td>\n",
       "      <td>98028.0</td>\n",
       "      <td>47.7379</td>\n",
       "      <td>-122.233</td>\n",
       "      <td>2720.0</td>\n",
       "      <td>18.00</td>\n",
       "    </tr>\n",
       "    <tr>\n",
       "      <th>3</th>\n",
       "      <td>4.0</td>\n",
       "      <td>3.00</td>\n",
       "      <td>1960.0</td>\n",
       "      <td>5000.0</td>\n",
       "      <td>1.0</td>\n",
       "      <td>0.0</td>\n",
       "      <td>0.0</td>\n",
       "      <td>5.0</td>\n",
       "      <td>7.0</td>\n",
       "      <td>1050.0</td>\n",
       "      <td>910.0</td>\n",
       "      <td>1965.0</td>\n",
       "      <td>0.0</td>\n",
       "      <td>98136.0</td>\n",
       "      <td>47.5208</td>\n",
       "      <td>-122.393</td>\n",
       "      <td>1360.0</td>\n",
       "      <td>60.40</td>\n",
       "    </tr>\n",
       "    <tr>\n",
       "      <th>4</th>\n",
       "      <td>3.0</td>\n",
       "      <td>2.00</td>\n",
       "      <td>1680.0</td>\n",
       "      <td>8080.0</td>\n",
       "      <td>1.0</td>\n",
       "      <td>0.0</td>\n",
       "      <td>0.0</td>\n",
       "      <td>3.0</td>\n",
       "      <td>8.0</td>\n",
       "      <td>1680.0</td>\n",
       "      <td>0.0</td>\n",
       "      <td>1987.0</td>\n",
       "      <td>0.0</td>\n",
       "      <td>98074.0</td>\n",
       "      <td>47.6168</td>\n",
       "      <td>-122.045</td>\n",
       "      <td>1800.0</td>\n",
       "      <td>51.00</td>\n",
       "    </tr>\n",
       "  </tbody>\n",
       "</table>\n",
       "</div>"
      ],
      "text/plain": [
       "   bedrooms  bathrooms  sqft_living  sqft_lot  floors  waterfront  view  \\\n",
       "0       3.0       1.00       1180.0    5650.0     1.0         0.0   0.0   \n",
       "1       3.0       2.25       2570.0    7242.0     2.0         0.0   0.0   \n",
       "2       2.0       1.00        770.0   10000.0     1.0         0.0   0.0   \n",
       "3       4.0       3.00       1960.0    5000.0     1.0         0.0   0.0   \n",
       "4       3.0       2.00       1680.0    8080.0     1.0         0.0   0.0   \n",
       "\n",
       "   condition  grade  sqft_above  sqft_basement  yr_built  yr_renovated  \\\n",
       "0        3.0    7.0      1180.0            0.0    1955.0           0.0   \n",
       "1        3.0    7.0      2170.0          400.0    1951.0        1991.0   \n",
       "2        3.0    6.0       770.0            0.0    1933.0           0.0   \n",
       "3        5.0    7.0      1050.0          910.0    1965.0           0.0   \n",
       "4        3.0    8.0      1680.0            0.0    1987.0           0.0   \n",
       "\n",
       "   zipcode      lat     long  sqft_living15  price  \n",
       "0  98178.0  47.5112 -122.257         1340.0  22.19  \n",
       "1  98125.0  47.7210 -122.319         1690.0  53.80  \n",
       "2  98028.0  47.7379 -122.233         2720.0  18.00  \n",
       "3  98136.0  47.5208 -122.393         1360.0  60.40  \n",
       "4  98074.0  47.6168 -122.045         1800.0  51.00  "
      ]
     },
     "execution_count": 53,
     "metadata": {},
     "output_type": "execute_result"
    }
   ],
   "source": [
    "# to see first 5 rows\n",
    "#data exploration\n",
    "data.head()"
   ]
  },
  {
   "cell_type": "code",
   "execution_count": 54,
   "id": "d754af65",
   "metadata": {},
   "outputs": [
    {
     "data": {
      "text/html": [
       "<div>\n",
       "<style scoped>\n",
       "    .dataframe tbody tr th:only-of-type {\n",
       "        vertical-align: middle;\n",
       "    }\n",
       "\n",
       "    .dataframe tbody tr th {\n",
       "        vertical-align: top;\n",
       "    }\n",
       "\n",
       "    .dataframe thead th {\n",
       "        text-align: right;\n",
       "    }\n",
       "</style>\n",
       "<table border=\"1\" class=\"dataframe\">\n",
       "  <thead>\n",
       "    <tr style=\"text-align: right;\">\n",
       "      <th></th>\n",
       "      <th>bedrooms</th>\n",
       "      <th>bathrooms</th>\n",
       "      <th>sqft_living</th>\n",
       "      <th>sqft_lot</th>\n",
       "      <th>floors</th>\n",
       "      <th>waterfront</th>\n",
       "      <th>view</th>\n",
       "      <th>condition</th>\n",
       "      <th>grade</th>\n",
       "      <th>sqft_above</th>\n",
       "      <th>sqft_basement</th>\n",
       "      <th>yr_built</th>\n",
       "      <th>yr_renovated</th>\n",
       "      <th>zipcode</th>\n",
       "      <th>lat</th>\n",
       "      <th>long</th>\n",
       "      <th>sqft_living15</th>\n",
       "      <th>price</th>\n",
       "    </tr>\n",
       "  </thead>\n",
       "  <tbody>\n",
       "    <tr>\n",
       "      <th>995</th>\n",
       "      <td>4.0</td>\n",
       "      <td>2.50</td>\n",
       "      <td>1860.0</td>\n",
       "      <td>6325.0</td>\n",
       "      <td>2.0</td>\n",
       "      <td>0.0</td>\n",
       "      <td>0.0</td>\n",
       "      <td>4.0</td>\n",
       "      <td>7.0</td>\n",
       "      <td>1860.0</td>\n",
       "      <td>0.0</td>\n",
       "      <td>1991.0</td>\n",
       "      <td>0.0</td>\n",
       "      <td>98038.0</td>\n",
       "      <td>47.3492</td>\n",
       "      <td>-122.030</td>\n",
       "      <td>1860.0</td>\n",
       "      <td>29.100</td>\n",
       "    </tr>\n",
       "    <tr>\n",
       "      <th>996</th>\n",
       "      <td>2.0</td>\n",
       "      <td>2.75</td>\n",
       "      <td>1590.0</td>\n",
       "      <td>20917.0</td>\n",
       "      <td>1.5</td>\n",
       "      <td>0.0</td>\n",
       "      <td>0.0</td>\n",
       "      <td>3.0</td>\n",
       "      <td>5.0</td>\n",
       "      <td>1590.0</td>\n",
       "      <td>0.0</td>\n",
       "      <td>1920.0</td>\n",
       "      <td>0.0</td>\n",
       "      <td>98001.0</td>\n",
       "      <td>47.2786</td>\n",
       "      <td>-122.250</td>\n",
       "      <td>1310.0</td>\n",
       "      <td>19.995</td>\n",
       "    </tr>\n",
       "    <tr>\n",
       "      <th>997</th>\n",
       "      <td>2.0</td>\n",
       "      <td>1.00</td>\n",
       "      <td>850.0</td>\n",
       "      <td>2340.0</td>\n",
       "      <td>1.0</td>\n",
       "      <td>0.0</td>\n",
       "      <td>0.0</td>\n",
       "      <td>3.0</td>\n",
       "      <td>7.0</td>\n",
       "      <td>850.0</td>\n",
       "      <td>0.0</td>\n",
       "      <td>1922.0</td>\n",
       "      <td>0.0</td>\n",
       "      <td>98105.0</td>\n",
       "      <td>47.6707</td>\n",
       "      <td>-122.328</td>\n",
       "      <td>1300.0</td>\n",
       "      <td>55.350</td>\n",
       "    </tr>\n",
       "    <tr>\n",
       "      <th>998</th>\n",
       "      <td>2.0</td>\n",
       "      <td>1.00</td>\n",
       "      <td>1030.0</td>\n",
       "      <td>4188.0</td>\n",
       "      <td>1.0</td>\n",
       "      <td>0.0</td>\n",
       "      <td>0.0</td>\n",
       "      <td>3.0</td>\n",
       "      <td>8.0</td>\n",
       "      <td>1030.0</td>\n",
       "      <td>0.0</td>\n",
       "      <td>1981.0</td>\n",
       "      <td>0.0</td>\n",
       "      <td>98038.0</td>\n",
       "      <td>47.3738</td>\n",
       "      <td>-122.057</td>\n",
       "      <td>1450.0</td>\n",
       "      <td>18.995</td>\n",
       "    </tr>\n",
       "    <tr>\n",
       "      <th>999</th>\n",
       "      <td>NaN</td>\n",
       "      <td>NaN</td>\n",
       "      <td>NaN</td>\n",
       "      <td>NaN</td>\n",
       "      <td>NaN</td>\n",
       "      <td>NaN</td>\n",
       "      <td>NaN</td>\n",
       "      <td>NaN</td>\n",
       "      <td>NaN</td>\n",
       "      <td>NaN</td>\n",
       "      <td>NaN</td>\n",
       "      <td>NaN</td>\n",
       "      <td>NaN</td>\n",
       "      <td>NaN</td>\n",
       "      <td>NaN</td>\n",
       "      <td>NaN</td>\n",
       "      <td>NaN</td>\n",
       "      <td>NaN</td>\n",
       "    </tr>\n",
       "  </tbody>\n",
       "</table>\n",
       "</div>"
      ],
      "text/plain": [
       "     bedrooms  bathrooms  sqft_living  sqft_lot  floors  waterfront  view  \\\n",
       "995       4.0       2.50       1860.0    6325.0     2.0         0.0   0.0   \n",
       "996       2.0       2.75       1590.0   20917.0     1.5         0.0   0.0   \n",
       "997       2.0       1.00        850.0    2340.0     1.0         0.0   0.0   \n",
       "998       2.0       1.00       1030.0    4188.0     1.0         0.0   0.0   \n",
       "999       NaN        NaN          NaN       NaN     NaN         NaN   NaN   \n",
       "\n",
       "     condition  grade  sqft_above  sqft_basement  yr_built  yr_renovated  \\\n",
       "995        4.0    7.0      1860.0            0.0    1991.0           0.0   \n",
       "996        3.0    5.0      1590.0            0.0    1920.0           0.0   \n",
       "997        3.0    7.0       850.0            0.0    1922.0           0.0   \n",
       "998        3.0    8.0      1030.0            0.0    1981.0           0.0   \n",
       "999        NaN    NaN         NaN            NaN       NaN           NaN   \n",
       "\n",
       "     zipcode      lat     long  sqft_living15   price  \n",
       "995  98038.0  47.3492 -122.030         1860.0  29.100  \n",
       "996  98001.0  47.2786 -122.250         1310.0  19.995  \n",
       "997  98105.0  47.6707 -122.328         1300.0  55.350  \n",
       "998  98038.0  47.3738 -122.057         1450.0  18.995  \n",
       "999      NaN      NaN      NaN            NaN     NaN  "
      ]
     },
     "execution_count": 54,
     "metadata": {},
     "output_type": "execute_result"
    }
   ],
   "source": [
    "#to see last 5 rows\n",
    "data.tail()"
   ]
  },
  {
   "cell_type": "code",
   "execution_count": 55,
   "id": "3be4ff93",
   "metadata": {},
   "outputs": [
    {
     "data": {
      "text/plain": [
       "Index(['bedrooms', 'bathrooms', 'sqft_living', 'sqft_lot', 'floors',\n",
       "       'waterfront', 'view', 'condition', 'grade', 'sqft_above',\n",
       "       'sqft_basement', 'yr_built', 'yr_renovated', 'zipcode', 'lat', 'long',\n",
       "       'sqft_living15', 'price'],\n",
       "      dtype='object')"
      ]
     },
     "execution_count": 55,
     "metadata": {},
     "output_type": "execute_result"
    }
   ],
   "source": [
    "#colums in the file\n",
    "data.columns"
   ]
  },
  {
   "cell_type": "code",
   "execution_count": 56,
   "id": "8c5ee3c1",
   "metadata": {},
   "outputs": [
    {
     "data": {
      "text/plain": [
       "(1000, 18)"
      ]
     },
     "execution_count": 56,
     "metadata": {},
     "output_type": "execute_result"
    }
   ],
   "source": [
    "data.shape"
   ]
  },
  {
   "cell_type": "code",
   "execution_count": 57,
   "id": "a3859ed4",
   "metadata": {},
   "outputs": [
    {
     "data": {
      "text/html": [
       "<div>\n",
       "<style scoped>\n",
       "    .dataframe tbody tr th:only-of-type {\n",
       "        vertical-align: middle;\n",
       "    }\n",
       "\n",
       "    .dataframe tbody tr th {\n",
       "        vertical-align: top;\n",
       "    }\n",
       "\n",
       "    .dataframe thead th {\n",
       "        text-align: right;\n",
       "    }\n",
       "</style>\n",
       "<table border=\"1\" class=\"dataframe\">\n",
       "  <thead>\n",
       "    <tr style=\"text-align: right;\">\n",
       "      <th></th>\n",
       "      <th>bedrooms</th>\n",
       "      <th>bathrooms</th>\n",
       "      <th>sqft_living</th>\n",
       "      <th>sqft_lot</th>\n",
       "      <th>floors</th>\n",
       "      <th>waterfront</th>\n",
       "      <th>view</th>\n",
       "      <th>condition</th>\n",
       "      <th>grade</th>\n",
       "      <th>sqft_above</th>\n",
       "      <th>sqft_basement</th>\n",
       "      <th>yr_built</th>\n",
       "      <th>yr_renovated</th>\n",
       "      <th>zipcode</th>\n",
       "      <th>lat</th>\n",
       "      <th>long</th>\n",
       "      <th>sqft_living15</th>\n",
       "      <th>price</th>\n",
       "    </tr>\n",
       "  </thead>\n",
       "  <tbody>\n",
       "    <tr>\n",
       "      <th>count</th>\n",
       "      <td>999.000000</td>\n",
       "      <td>999.000000</td>\n",
       "      <td>999.000000</td>\n",
       "      <td>999.000000</td>\n",
       "      <td>999.000000</td>\n",
       "      <td>999.000000</td>\n",
       "      <td>999.000000</td>\n",
       "      <td>999.000000</td>\n",
       "      <td>999.000000</td>\n",
       "      <td>999.000000</td>\n",
       "      <td>999.000000</td>\n",
       "      <td>999.000000</td>\n",
       "      <td>999.000000</td>\n",
       "      <td>999.000000</td>\n",
       "      <td>999.000000</td>\n",
       "      <td>999.000000</td>\n",
       "      <td>999.000000</td>\n",
       "      <td>999.000000</td>\n",
       "    </tr>\n",
       "    <tr>\n",
       "      <th>mean</th>\n",
       "      <td>3.349349</td>\n",
       "      <td>2.045796</td>\n",
       "      <td>2051.397397</td>\n",
       "      <td>14707.242242</td>\n",
       "      <td>1.446947</td>\n",
       "      <td>0.008008</td>\n",
       "      <td>0.237237</td>\n",
       "      <td>3.464464</td>\n",
       "      <td>7.605606</td>\n",
       "      <td>1750.233233</td>\n",
       "      <td>301.164164</td>\n",
       "      <td>1969.030030</td>\n",
       "      <td>81.830831</td>\n",
       "      <td>98074.441441</td>\n",
       "      <td>47.549720</td>\n",
       "      <td>-122.207406</td>\n",
       "      <td>1986.813814</td>\n",
       "      <td>52.071452</td>\n",
       "    </tr>\n",
       "    <tr>\n",
       "      <th>std</th>\n",
       "      <td>0.852367</td>\n",
       "      <td>0.721983</td>\n",
       "      <td>888.351113</td>\n",
       "      <td>28975.077254</td>\n",
       "      <td>0.517420</td>\n",
       "      <td>0.089173</td>\n",
       "      <td>0.765472</td>\n",
       "      <td>0.689521</td>\n",
       "      <td>1.160734</td>\n",
       "      <td>790.466905</td>\n",
       "      <td>451.023402</td>\n",
       "      <td>28.198607</td>\n",
       "      <td>395.767918</td>\n",
       "      <td>52.545832</td>\n",
       "      <td>0.141558</td>\n",
       "      <td>0.139564</td>\n",
       "      <td>670.723475</td>\n",
       "      <td>33.974907</td>\n",
       "    </tr>\n",
       "    <tr>\n",
       "      <th>min</th>\n",
       "      <td>0.000000</td>\n",
       "      <td>0.000000</td>\n",
       "      <td>380.000000</td>\n",
       "      <td>649.000000</td>\n",
       "      <td>1.000000</td>\n",
       "      <td>0.000000</td>\n",
       "      <td>0.000000</td>\n",
       "      <td>1.000000</td>\n",
       "      <td>4.000000</td>\n",
       "      <td>380.000000</td>\n",
       "      <td>0.000000</td>\n",
       "      <td>1900.000000</td>\n",
       "      <td>0.000000</td>\n",
       "      <td>98001.000000</td>\n",
       "      <td>47.177500</td>\n",
       "      <td>-122.490000</td>\n",
       "      <td>830.000000</td>\n",
       "      <td>8.000000</td>\n",
       "    </tr>\n",
       "    <tr>\n",
       "      <th>25%</th>\n",
       "      <td>3.000000</td>\n",
       "      <td>1.500000</td>\n",
       "      <td>1405.000000</td>\n",
       "      <td>5419.000000</td>\n",
       "      <td>1.000000</td>\n",
       "      <td>0.000000</td>\n",
       "      <td>0.000000</td>\n",
       "      <td>3.000000</td>\n",
       "      <td>7.000000</td>\n",
       "      <td>1190.000000</td>\n",
       "      <td>0.000000</td>\n",
       "      <td>1952.000000</td>\n",
       "      <td>0.000000</td>\n",
       "      <td>98032.000000</td>\n",
       "      <td>47.443000</td>\n",
       "      <td>-122.322500</td>\n",
       "      <td>1490.000000</td>\n",
       "      <td>30.980000</td>\n",
       "    </tr>\n",
       "    <tr>\n",
       "      <th>50%</th>\n",
       "      <td>3.000000</td>\n",
       "      <td>2.000000</td>\n",
       "      <td>1900.000000</td>\n",
       "      <td>8040.000000</td>\n",
       "      <td>1.000000</td>\n",
       "      <td>0.000000</td>\n",
       "      <td>0.000000</td>\n",
       "      <td>3.000000</td>\n",
       "      <td>7.000000</td>\n",
       "      <td>1540.000000</td>\n",
       "      <td>0.000000</td>\n",
       "      <td>1974.000000</td>\n",
       "      <td>0.000000</td>\n",
       "      <td>98058.000000</td>\n",
       "      <td>47.563600</td>\n",
       "      <td>-122.218000</td>\n",
       "      <td>1850.000000</td>\n",
       "      <td>43.500000</td>\n",
       "    </tr>\n",
       "    <tr>\n",
       "      <th>75%</th>\n",
       "      <td>4.000000</td>\n",
       "      <td>2.500000</td>\n",
       "      <td>2475.000000</td>\n",
       "      <td>11508.500000</td>\n",
       "      <td>2.000000</td>\n",
       "      <td>0.000000</td>\n",
       "      <td>0.000000</td>\n",
       "      <td>4.000000</td>\n",
       "      <td>8.000000</td>\n",
       "      <td>2135.000000</td>\n",
       "      <td>580.000000</td>\n",
       "      <td>1992.000000</td>\n",
       "      <td>0.000000</td>\n",
       "      <td>98116.000000</td>\n",
       "      <td>47.673400</td>\n",
       "      <td>-122.118000</td>\n",
       "      <td>2360.000000</td>\n",
       "      <td>63.446250</td>\n",
       "    </tr>\n",
       "    <tr>\n",
       "      <th>max</th>\n",
       "      <td>7.000000</td>\n",
       "      <td>5.000000</td>\n",
       "      <td>6070.000000</td>\n",
       "      <td>315374.000000</td>\n",
       "      <td>3.500000</td>\n",
       "      <td>1.000000</td>\n",
       "      <td>4.000000</td>\n",
       "      <td>5.000000</td>\n",
       "      <td>12.000000</td>\n",
       "      <td>6070.000000</td>\n",
       "      <td>2060.000000</td>\n",
       "      <td>2015.000000</td>\n",
       "      <td>2014.000000</td>\n",
       "      <td>98199.000000</td>\n",
       "      <td>47.777600</td>\n",
       "      <td>-121.709000</td>\n",
       "      <td>4760.000000</td>\n",
       "      <td>308.000000</td>\n",
       "    </tr>\n",
       "  </tbody>\n",
       "</table>\n",
       "</div>"
      ],
      "text/plain": [
       "         bedrooms   bathrooms  sqft_living       sqft_lot      floors  \\\n",
       "count  999.000000  999.000000   999.000000     999.000000  999.000000   \n",
       "mean     3.349349    2.045796  2051.397397   14707.242242    1.446947   \n",
       "std      0.852367    0.721983   888.351113   28975.077254    0.517420   \n",
       "min      0.000000    0.000000   380.000000     649.000000    1.000000   \n",
       "25%      3.000000    1.500000  1405.000000    5419.000000    1.000000   \n",
       "50%      3.000000    2.000000  1900.000000    8040.000000    1.000000   \n",
       "75%      4.000000    2.500000  2475.000000   11508.500000    2.000000   \n",
       "max      7.000000    5.000000  6070.000000  315374.000000    3.500000   \n",
       "\n",
       "       waterfront        view   condition       grade   sqft_above  \\\n",
       "count  999.000000  999.000000  999.000000  999.000000   999.000000   \n",
       "mean     0.008008    0.237237    3.464464    7.605606  1750.233233   \n",
       "std      0.089173    0.765472    0.689521    1.160734   790.466905   \n",
       "min      0.000000    0.000000    1.000000    4.000000   380.000000   \n",
       "25%      0.000000    0.000000    3.000000    7.000000  1190.000000   \n",
       "50%      0.000000    0.000000    3.000000    7.000000  1540.000000   \n",
       "75%      0.000000    0.000000    4.000000    8.000000  2135.000000   \n",
       "max      1.000000    4.000000    5.000000   12.000000  6070.000000   \n",
       "\n",
       "       sqft_basement     yr_built  yr_renovated       zipcode         lat  \\\n",
       "count     999.000000   999.000000    999.000000    999.000000  999.000000   \n",
       "mean      301.164164  1969.030030     81.830831  98074.441441   47.549720   \n",
       "std       451.023402    28.198607    395.767918     52.545832    0.141558   \n",
       "min         0.000000  1900.000000      0.000000  98001.000000   47.177500   \n",
       "25%         0.000000  1952.000000      0.000000  98032.000000   47.443000   \n",
       "50%         0.000000  1974.000000      0.000000  98058.000000   47.563600   \n",
       "75%       580.000000  1992.000000      0.000000  98116.000000   47.673400   \n",
       "max      2060.000000  2015.000000   2014.000000  98199.000000   47.777600   \n",
       "\n",
       "             long  sqft_living15       price  \n",
       "count  999.000000     999.000000  999.000000  \n",
       "mean  -122.207406    1986.813814   52.071452  \n",
       "std      0.139564     670.723475   33.974907  \n",
       "min   -122.490000     830.000000    8.000000  \n",
       "25%   -122.322500    1490.000000   30.980000  \n",
       "50%   -122.218000    1850.000000   43.500000  \n",
       "75%   -122.118000    2360.000000   63.446250  \n",
       "max   -121.709000    4760.000000  308.000000  "
      ]
     },
     "execution_count": 57,
     "metadata": {},
     "output_type": "execute_result"
    }
   ],
   "source": [
    "data.describe()"
   ]
  },
  {
   "cell_type": "code",
   "execution_count": 58,
   "id": "20d66407",
   "metadata": {},
   "outputs": [
    {
     "data": {
      "text/plain": [
       "bedrooms         1\n",
       "bathrooms        1\n",
       "sqft_living      1\n",
       "sqft_lot         1\n",
       "floors           1\n",
       "waterfront       1\n",
       "view             1\n",
       "condition        1\n",
       "grade            1\n",
       "sqft_above       1\n",
       "sqft_basement    1\n",
       "yr_built         1\n",
       "yr_renovated     1\n",
       "zipcode          1\n",
       "lat              1\n",
       "long             1\n",
       "sqft_living15    1\n",
       "price            1\n",
       "dtype: int64"
      ]
     },
     "execution_count": 58,
     "metadata": {},
     "output_type": "execute_result"
    }
   ],
   "source": [
    "#finding no null values \n",
    "data.isnull().sum()"
   ]
  },
  {
   "cell_type": "code",
   "execution_count": 59,
   "id": "5c80c2b3",
   "metadata": {},
   "outputs": [],
   "source": [
    "#deleting the a null row\n",
    "data.drop(axis=0,index=999,inplace=True)"
   ]
  },
  {
   "cell_type": "code",
   "execution_count": 60,
   "id": "b1cd2731",
   "metadata": {},
   "outputs": [
    {
     "data": {
      "text/html": [
       "<div>\n",
       "<style scoped>\n",
       "    .dataframe tbody tr th:only-of-type {\n",
       "        vertical-align: middle;\n",
       "    }\n",
       "\n",
       "    .dataframe tbody tr th {\n",
       "        vertical-align: top;\n",
       "    }\n",
       "\n",
       "    .dataframe thead th {\n",
       "        text-align: right;\n",
       "    }\n",
       "</style>\n",
       "<table border=\"1\" class=\"dataframe\">\n",
       "  <thead>\n",
       "    <tr style=\"text-align: right;\">\n",
       "      <th></th>\n",
       "      <th>bedrooms</th>\n",
       "      <th>bathrooms</th>\n",
       "      <th>sqft_living</th>\n",
       "      <th>sqft_lot</th>\n",
       "      <th>floors</th>\n",
       "      <th>waterfront</th>\n",
       "      <th>view</th>\n",
       "      <th>condition</th>\n",
       "      <th>grade</th>\n",
       "      <th>sqft_above</th>\n",
       "      <th>sqft_basement</th>\n",
       "      <th>yr_built</th>\n",
       "      <th>yr_renovated</th>\n",
       "      <th>zipcode</th>\n",
       "      <th>lat</th>\n",
       "      <th>long</th>\n",
       "      <th>sqft_living15</th>\n",
       "      <th>price</th>\n",
       "    </tr>\n",
       "  </thead>\n",
       "  <tbody>\n",
       "    <tr>\n",
       "      <th>994</th>\n",
       "      <td>2.0</td>\n",
       "      <td>1.00</td>\n",
       "      <td>740.0</td>\n",
       "      <td>6460.0</td>\n",
       "      <td>1.0</td>\n",
       "      <td>0.0</td>\n",
       "      <td>0.0</td>\n",
       "      <td>3.0</td>\n",
       "      <td>6.0</td>\n",
       "      <td>740.0</td>\n",
       "      <td>0.0</td>\n",
       "      <td>1953.0</td>\n",
       "      <td>0.0</td>\n",
       "      <td>98146.0</td>\n",
       "      <td>47.5077</td>\n",
       "      <td>-122.344</td>\n",
       "      <td>1170.0</td>\n",
       "      <td>17.850</td>\n",
       "    </tr>\n",
       "    <tr>\n",
       "      <th>995</th>\n",
       "      <td>4.0</td>\n",
       "      <td>2.50</td>\n",
       "      <td>1860.0</td>\n",
       "      <td>6325.0</td>\n",
       "      <td>2.0</td>\n",
       "      <td>0.0</td>\n",
       "      <td>0.0</td>\n",
       "      <td>4.0</td>\n",
       "      <td>7.0</td>\n",
       "      <td>1860.0</td>\n",
       "      <td>0.0</td>\n",
       "      <td>1991.0</td>\n",
       "      <td>0.0</td>\n",
       "      <td>98038.0</td>\n",
       "      <td>47.3492</td>\n",
       "      <td>-122.030</td>\n",
       "      <td>1860.0</td>\n",
       "      <td>29.100</td>\n",
       "    </tr>\n",
       "    <tr>\n",
       "      <th>996</th>\n",
       "      <td>2.0</td>\n",
       "      <td>2.75</td>\n",
       "      <td>1590.0</td>\n",
       "      <td>20917.0</td>\n",
       "      <td>1.5</td>\n",
       "      <td>0.0</td>\n",
       "      <td>0.0</td>\n",
       "      <td>3.0</td>\n",
       "      <td>5.0</td>\n",
       "      <td>1590.0</td>\n",
       "      <td>0.0</td>\n",
       "      <td>1920.0</td>\n",
       "      <td>0.0</td>\n",
       "      <td>98001.0</td>\n",
       "      <td>47.2786</td>\n",
       "      <td>-122.250</td>\n",
       "      <td>1310.0</td>\n",
       "      <td>19.995</td>\n",
       "    </tr>\n",
       "    <tr>\n",
       "      <th>997</th>\n",
       "      <td>2.0</td>\n",
       "      <td>1.00</td>\n",
       "      <td>850.0</td>\n",
       "      <td>2340.0</td>\n",
       "      <td>1.0</td>\n",
       "      <td>0.0</td>\n",
       "      <td>0.0</td>\n",
       "      <td>3.0</td>\n",
       "      <td>7.0</td>\n",
       "      <td>850.0</td>\n",
       "      <td>0.0</td>\n",
       "      <td>1922.0</td>\n",
       "      <td>0.0</td>\n",
       "      <td>98105.0</td>\n",
       "      <td>47.6707</td>\n",
       "      <td>-122.328</td>\n",
       "      <td>1300.0</td>\n",
       "      <td>55.350</td>\n",
       "    </tr>\n",
       "    <tr>\n",
       "      <th>998</th>\n",
       "      <td>2.0</td>\n",
       "      <td>1.00</td>\n",
       "      <td>1030.0</td>\n",
       "      <td>4188.0</td>\n",
       "      <td>1.0</td>\n",
       "      <td>0.0</td>\n",
       "      <td>0.0</td>\n",
       "      <td>3.0</td>\n",
       "      <td>8.0</td>\n",
       "      <td>1030.0</td>\n",
       "      <td>0.0</td>\n",
       "      <td>1981.0</td>\n",
       "      <td>0.0</td>\n",
       "      <td>98038.0</td>\n",
       "      <td>47.3738</td>\n",
       "      <td>-122.057</td>\n",
       "      <td>1450.0</td>\n",
       "      <td>18.995</td>\n",
       "    </tr>\n",
       "  </tbody>\n",
       "</table>\n",
       "</div>"
      ],
      "text/plain": [
       "     bedrooms  bathrooms  sqft_living  sqft_lot  floors  waterfront  view  \\\n",
       "994       2.0       1.00        740.0    6460.0     1.0         0.0   0.0   \n",
       "995       4.0       2.50       1860.0    6325.0     2.0         0.0   0.0   \n",
       "996       2.0       2.75       1590.0   20917.0     1.5         0.0   0.0   \n",
       "997       2.0       1.00        850.0    2340.0     1.0         0.0   0.0   \n",
       "998       2.0       1.00       1030.0    4188.0     1.0         0.0   0.0   \n",
       "\n",
       "     condition  grade  sqft_above  sqft_basement  yr_built  yr_renovated  \\\n",
       "994        3.0    6.0       740.0            0.0    1953.0           0.0   \n",
       "995        4.0    7.0      1860.0            0.0    1991.0           0.0   \n",
       "996        3.0    5.0      1590.0            0.0    1920.0           0.0   \n",
       "997        3.0    7.0       850.0            0.0    1922.0           0.0   \n",
       "998        3.0    8.0      1030.0            0.0    1981.0           0.0   \n",
       "\n",
       "     zipcode      lat     long  sqft_living15   price  \n",
       "994  98146.0  47.5077 -122.344         1170.0  17.850  \n",
       "995  98038.0  47.3492 -122.030         1860.0  29.100  \n",
       "996  98001.0  47.2786 -122.250         1310.0  19.995  \n",
       "997  98105.0  47.6707 -122.328         1300.0  55.350  \n",
       "998  98038.0  47.3738 -122.057         1450.0  18.995  "
      ]
     },
     "execution_count": 60,
     "metadata": {},
     "output_type": "execute_result"
    }
   ],
   "source": [
    "data.tail()"
   ]
  },
  {
   "cell_type": "code",
   "execution_count": 61,
   "id": "1c41e141",
   "metadata": {},
   "outputs": [
    {
     "data": {
      "text/plain": [
       "bedrooms         0\n",
       "bathrooms        0\n",
       "sqft_living      0\n",
       "sqft_lot         0\n",
       "floors           0\n",
       "waterfront       0\n",
       "view             0\n",
       "condition        0\n",
       "grade            0\n",
       "sqft_above       0\n",
       "sqft_basement    0\n",
       "yr_built         0\n",
       "yr_renovated     0\n",
       "zipcode          0\n",
       "lat              0\n",
       "long             0\n",
       "sqft_living15    0\n",
       "price            0\n",
       "dtype: int64"
      ]
     },
     "execution_count": 61,
     "metadata": {},
     "output_type": "execute_result"
    }
   ],
   "source": [
    "data.isnull().sum()"
   ]
  },
  {
   "cell_type": "code",
   "execution_count": 62,
   "id": "bc5940be",
   "metadata": {},
   "outputs": [
    {
     "data": {
      "text/plain": [
       "<seaborn.axisgrid.FacetGrid at 0x1745ed103a0>"
      ]
     },
     "execution_count": 62,
     "metadata": {},
     "output_type": "execute_result"
    },
    {
     "data": {
      "image/png": "[encoded data removed]",
      "text/plain": [
       "<Figure size 360x360 with 1 Axes>"
      ]
     },
     "metadata": {
      "needs_background": "light"
     },
     "output_type": "display_data"
    }
   ],
   "source": [
    "#finding relation between variables using seaborn\n",
    "sb.relplot(x='price',y='bedrooms',data=data)"
   ]
  },
  {
   "cell_type": "code",
   "execution_count": 63,
   "id": "57dfb3f7",
   "metadata": {},
   "outputs": [
    {
     "data": {
      "text/plain": [
       "<seaborn.axisgrid.FacetGrid at 0x1745edc1400>"
      ]
     },
     "execution_count": 63,
     "metadata": {},
     "output_type": "execute_result"
    },
    {
     "data": {
      "image/png": "[encoded data removed]",
      "text/plain": [
       "<Figure size 417.5x360 with 1 Axes>"
      ]
     },
     "metadata": {
      "needs_background": "light"
     },
     "output_type": "display_data"
    }
   ],
   "source": [
    "sb.relplot(x='price',y='bathrooms',hue='bedrooms',data=data)"
   ]
  },
  {
   "cell_type": "code",
   "execution_count": 64,
   "id": "a568a64d",
   "metadata": {},
   "outputs": [
    {
     "data": {
      "text/plain": [
       "<seaborn.axisgrid.FacetGrid at 0x1745ee3f4f0>"
      ]
     },
     "execution_count": 64,
     "metadata": {},
     "output_type": "execute_result"
    },
    {
     "data": {
      "image/png": "[encoded data removed]",
      "text/plain": [
       "<Figure size 360x360 with 1 Axes>"
      ]
     },
     "metadata": {
      "needs_background": "light"
     },
     "output_type": "display_data"
    }
   ],
   "source": [
    "sb.relplot(x='price',y='floors',data=data)"
   ]
  },
  {
   "cell_type": "code",
   "execution_count": 65,
   "id": "b6e3fcd9",
   "metadata": {},
   "outputs": [
    {
     "data": {
      "text/plain": [
       "<seaborn.axisgrid.FacetGrid at 0x1745ee3fe50>"
      ]
     },
     "execution_count": 65,
     "metadata": {},
     "output_type": "execute_result"
    },
    {
     "data": {
      "image/png": "[encoded data removed]",
      "text/plain": [
       "<Figure size 360x360 with 1 Axes>"
      ]
     },
     "metadata": {
      "needs_background": "light"
     },
     "output_type": "display_data"
    }
   ],
   "source": [
    "sb.relplot(x='price',y='sqft_living15',data=data)"
   ]
  },
  {
   "cell_type": "code",
   "execution_count": 66,
   "id": "7cac32d1",
   "metadata": {},
   "outputs": [
    {
     "data": {
      "text/plain": [
       "<seaborn.axisgrid.FacetGrid at 0x1745ee7c640>"
      ]
     },
     "execution_count": 66,
     "metadata": {},
     "output_type": "execute_result"
    },
    {
     "data": {
      "image/png": "[encoded data removed]",
      "text/plain": [
       "<Figure size 360x360 with 1 Axes>"
      ]
     },
     "metadata": {
      "needs_background": "light"
     },
     "output_type": "display_data"
    }
   ],
   "source": [
    "sb.relplot(x='price',y='condition',data=data)"
   ]
  },
  {
   "cell_type": "code",
   "execution_count": 67,
   "id": "da949b3d",
   "metadata": {},
   "outputs": [],
   "source": [
    "#linear Regression is imported\n",
    "from sklearn.linear_model import LinearRegression\n",
    "from sklearn.model_selection import train_test_split"
   ]
  },
  {
   "cell_type": "code",
   "execution_count": 68,
   "id": "ba257518",
   "metadata": {},
   "outputs": [],
   "source": [
    "#droping and adding columns for training and testing\n",
    "train=data.drop(['sqft_basement','yr_built','waterfront','view','yr_renovated','lat','long'],axis=1)\n",
    "test=data['price']"
   ]
  },
  {
   "cell_type": "code",
   "execution_count": 69,
   "id": "93af2e7c",
   "metadata": {},
   "outputs": [],
   "source": [
    "#spliting the data into training and testing \n",
    "x_train,x_test,y_train,y_test=train_test_split(train,test,test_size=0.3,random_state=2)\n"
   ]
  },
  {
   "cell_type": "code",
   "execution_count": 70,
   "id": "1237bdc4",
   "metadata": {},
   "outputs": [
    {
     "data": {
      "text/plain": [
       "LinearRegression()"
      ]
     },
     "execution_count": 70,
     "metadata": {},
     "output_type": "execute_result"
    }
   ],
   "source": [
    "#fitting the model to training data\n",
    "reg=LinearRegression()\n",
    "reg.fit(x_train,y_train)"
   ]
  },
  {
   "cell_type": "code",
   "execution_count": 71,
   "id": "acc55947",
   "metadata": {},
   "outputs": [],
   "source": [
    "#prediction\n",
    "pred=reg.predict(x_test)"
   ]
  },
  {
   "cell_type": "code",
   "execution_count": 72,
   "id": "4531a604",
   "metadata": {},
   "outputs": [
    {
     "data": {
      "text/plain": [
       "array([ 64.    ,  21.    ,  66.4   ,  87.9   ,  45.1   ,  74.8   ,\n",
       "        60.99  ,  46.7   ,  41.49  ,  21.    ,  45.2   ,  72.    ,\n",
       "        30.    ,  23.25  ,  24.5   ,  37.8   ,  60.5   ,  41.3   ,\n",
       "        63.2925,  32.5   ,  46.5   ,  28.7   ,  50.    ,  26.5   ,\n",
       "        46.5   , 112.    ,  45.    ,  79.9   ,  43.75  ,  47.85  ,\n",
       "        22.    ,  32.5   ,  84.    ,  51.75  ,  23.    ,  89.    ,\n",
       "        38.5   ,  66.    ,  78.2   ,  54.5   ,  50.7   , 120.    ,\n",
       "        31.095 ,  26.1   ,  68.5   ,  28.    ,  37.25  ,  70.    ,\n",
       "        21.    ,  38.4   ,  65.    , 131.    ,  20.5   ,  88.    ,\n",
       "        46.995 ,  37.9   ,  53.    ,  72.75  ,  42.    ,  91.    ,\n",
       "        58.9   ,  42.    ,  55.5   ,  53.    , 110.    ,  20.4   ,\n",
       "        42.5   ,  21.5   ,  26.5   ,  23.    ,  40.5   ,  67.5   ,\n",
       "        45.5   ,  55.    ,  41.6   ,  61.5   ,  40.55  ,  54.5   ,\n",
       "        65.5   ,  57.7   ,  24.5   ,  31.5   ,  27.    ,  84.    ,\n",
       "        71.    ,  42.    ,  31.495 , 122.    ,  38.5   ,  31.7625,\n",
       "        33.    ,  30.49  ,  59.5   ,  74.    ,  35.95  ,  24.7   ,\n",
       "        25.    ,  20.    ,  43.1   , 225.    ,  59.75  ,  25.5   ,\n",
       "        43.5   ,  53.    ,  23.8   ,  24.99  , 100.    ,  31.    ,\n",
       "        51.5   ,  28.    ,  40.3   ,  22.5   ,  29.185 ,  20.5   ,\n",
       "        61.9   ,  40.    , 148.    , 195.    ,  80.2541,  28.2   ,\n",
       "        51.7534,   8.    ,  52.425 ,  32.3   ,  41.5   ,  59.25  ,\n",
       "        46.6   ,  38.    ,  58.    ,  17.5   ,  37.9   ,  34.7   ,\n",
       "        53.36  ,  28.9999,  32.5   ,  33.5   ,  52.77  ,  35.5   ,\n",
       "        83.4   ,  55.    ,  32.85  ,  47.2   , 104.    ,  73.    ,\n",
       "       238.    ,  37.875 ,  55.1   ,  60.495 ,  46.575 ,  51.2   ,\n",
       "        24.2   ,  39.    ,  36.5   ,  40.    ,  33.9   ,  43.5   ,\n",
       "        63.    ,  34.9   ,  47.995 , 107.    ,  64.    ,  31.5   ,\n",
       "        37.85  ,  69.    ,  33.    ,  46.4   ,  20.5   ,  26.    ,\n",
       "        99.    ,  37.5   ,  26.6   ,  40.395 ,  35.8   ,  65.9   ,\n",
       "        33.    ,  53.8   ,  16.35  ,  47.    ,  25.5   ,  29.9995,\n",
       "        41.9   ,  98.8   ,  49.    ,  80.    ,  31.3   ,  82.25  ,\n",
       "        42.212 ,  47.    , 225.    ,  37.15  , 139.    ,  33.35  ,\n",
       "        93.    ,  48.    ,  30.    ,  33.2   ,  34.5   ,  30.    ,\n",
       "        52.5   ,  36.1   ,  42.5   ,  68.2   ,  18.8   ,  60.1   ,\n",
       "        21.    ,  97.    ,  20.1   ,  45.1   ,  65.    ,  43.165 ,\n",
       "        26.99  ,  32.5   ,  66.5   ,  28.295 ,  66.25  ,  23.6   ,\n",
       "        24.65  ,  22.9   ,  29.7   , 110.    ,  70.    ,  23.2   ,\n",
       "        29.99  ,  46.5   ,  39.75  ,  54.8   ,  50.5   ,  18.9   ,\n",
       "        64.8   ,  71.8   ,  43.5   ,  39.5   ,  32.    ,  48.5   ,\n",
       "        49.7   ,  28.5   ,  26.99  ,  44.    ,  58.5   ,  61.5   ,\n",
       "       103.    , 155.    ,  23.3   ,  98.    ,  31.8888,  97.1   ,\n",
       "        30.5   ,  26.495 ,  21.    ,  45.2   ,  86.5   ,  18.85  ,\n",
       "        73.    ,  19.6   ,  57.8   ,  45.2   ,  72.25  ,  30.96  ,\n",
       "       115.    ,  39.    ,  70.    ,  21.6   ,  41.9   ,  58.05  ,\n",
       "        66.25  ,  74.    ,  27.5   ,  42.995 ,  32.    ,  23.99  ,\n",
       "        44.7   ,  31.5   ,  39.    ,  72.5   ,  51.    ,  39.    ,\n",
       "        44.    ,  51.85  ,  27.425 ,  35.99  ,  67.3   ,  19.5   ,\n",
       "        47.    ,  94.25  ,  25.    ,  53.5   ,  38.5   ,  36.5   ,\n",
       "        53.99  ,  40.    ,  25.    ,  43.5   ,  16.5   ,  31.5   ,\n",
       "       135.    ,  20.9   , 213.    ,  67.15  ,  30.5   ,  43.    ])"
      ]
     },
     "execution_count": 72,
     "metadata": {},
     "output_type": "execute_result"
    }
   ],
   "source": [
    "pred"
   ]
  },
  {
   "cell_type": "code",
   "execution_count": 73,
   "id": "66cf7b65",
   "metadata": {},
   "outputs": [
    {
     "data": {
      "text/plain": [
       "1.0"
      ]
     },
     "execution_count": 73,
     "metadata": {},
     "output_type": "execute_result"
    }
   ],
   "source": [
    "#to find the accuracy of the model\n",
    "reg.score(x_test,y_test)"
   ]
  },
  {
   "cell_type": "code",
   "execution_count": null,
   "id": "15ac9c8c",
   "metadata": {},
   "outputs": [],
   "source": []
  }
 ],
 "metadata": {
  "kernelspec": {
   "display_name": "Python 3",
   "language": "python",
   "name": "python3"
  },
  "language_info": {
   "codemirror_mode": {
    "name": "ipython",
    "version": 3
   },
   "file_extension": ".py",
   "mimetype": "text/x-python",
   "name": "python",
   "nbconvert_exporter": "python",
   "pygments_lexer": "ipython3",
   "version": "3.8.8"
  }
 },
 "nbformat": 4,
 "nbformat_minor": 5
}
